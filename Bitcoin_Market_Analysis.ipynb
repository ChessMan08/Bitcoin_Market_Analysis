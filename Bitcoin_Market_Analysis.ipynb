{
 "cells": [
  {
   "cell_type": "code",
   "execution_count": 2,
   "id": "c17fc399",
   "metadata": {},
   "outputs": [
    {
     "data": {
      "text/html": [
       "<div>\n",
       "<style scoped>\n",
       "    .dataframe tbody tr th:only-of-type {\n",
       "        vertical-align: middle;\n",
       "    }\n",
       "\n",
       "    .dataframe tbody tr th {\n",
       "        vertical-align: top;\n",
       "    }\n",
       "\n",
       "    .dataframe thead th {\n",
       "        text-align: right;\n",
       "    }\n",
       "</style>\n",
       "<table border=\"1\" class=\"dataframe\">\n",
       "  <thead>\n",
       "    <tr style=\"text-align: right;\">\n",
       "      <th></th>\n",
       "      <th>Account</th>\n",
       "      <th>Coin</th>\n",
       "      <th>Execution Price</th>\n",
       "      <th>Size Tokens</th>\n",
       "      <th>Size USD</th>\n",
       "      <th>Side</th>\n",
       "      <th>Timestamp IST</th>\n",
       "      <th>Start Position</th>\n",
       "      <th>Direction</th>\n",
       "      <th>Closed PnL</th>\n",
       "      <th>Transaction Hash</th>\n",
       "      <th>Order ID</th>\n",
       "      <th>Crossed</th>\n",
       "      <th>Fee</th>\n",
       "      <th>Trade ID</th>\n",
       "      <th>Timestamp</th>\n",
       "    </tr>\n",
       "  </thead>\n",
       "  <tbody>\n",
       "    <tr>\n",
       "      <th>0</th>\n",
       "      <td>0xae5eacaf9c6b9111fd53034a602c192a04e082ed</td>\n",
       "      <td>@107</td>\n",
       "      <td>7.9769</td>\n",
       "      <td>986.87</td>\n",
       "      <td>7872.16</td>\n",
       "      <td>BUY</td>\n",
       "      <td>02-12-2024 22:50</td>\n",
       "      <td>0.000000</td>\n",
       "      <td>Buy</td>\n",
       "      <td>0.0</td>\n",
       "      <td>0xec09451986a1874e3a980418412fcd0201f500c95bac...</td>\n",
       "      <td>52017706630</td>\n",
       "      <td>True</td>\n",
       "      <td>0.345404</td>\n",
       "      <td>8.950000e+14</td>\n",
       "      <td>1.730000e+12</td>\n",
       "    </tr>\n",
       "    <tr>\n",
       "      <th>1</th>\n",
       "      <td>0xae5eacaf9c6b9111fd53034a602c192a04e082ed</td>\n",
       "      <td>@107</td>\n",
       "      <td>7.9800</td>\n",
       "      <td>16.00</td>\n",
       "      <td>127.68</td>\n",
       "      <td>BUY</td>\n",
       "      <td>02-12-2024 22:50</td>\n",
       "      <td>986.524596</td>\n",
       "      <td>Buy</td>\n",
       "      <td>0.0</td>\n",
       "      <td>0xec09451986a1874e3a980418412fcd0201f500c95bac...</td>\n",
       "      <td>52017706630</td>\n",
       "      <td>True</td>\n",
       "      <td>0.005600</td>\n",
       "      <td>4.430000e+14</td>\n",
       "      <td>1.730000e+12</td>\n",
       "    </tr>\n",
       "    <tr>\n",
       "      <th>2</th>\n",
       "      <td>0xae5eacaf9c6b9111fd53034a602c192a04e082ed</td>\n",
       "      <td>@107</td>\n",
       "      <td>7.9855</td>\n",
       "      <td>144.09</td>\n",
       "      <td>1150.63</td>\n",
       "      <td>BUY</td>\n",
       "      <td>02-12-2024 22:50</td>\n",
       "      <td>1002.518996</td>\n",
       "      <td>Buy</td>\n",
       "      <td>0.0</td>\n",
       "      <td>0xec09451986a1874e3a980418412fcd0201f500c95bac...</td>\n",
       "      <td>52017706630</td>\n",
       "      <td>True</td>\n",
       "      <td>0.050431</td>\n",
       "      <td>6.600000e+14</td>\n",
       "      <td>1.730000e+12</td>\n",
       "    </tr>\n",
       "  </tbody>\n",
       "</table>\n",
       "</div>"
      ],
      "text/plain": [
       "                                      Account  Coin  Execution Price  \\\n",
       "0  0xae5eacaf9c6b9111fd53034a602c192a04e082ed  @107           7.9769   \n",
       "1  0xae5eacaf9c6b9111fd53034a602c192a04e082ed  @107           7.9800   \n",
       "2  0xae5eacaf9c6b9111fd53034a602c192a04e082ed  @107           7.9855   \n",
       "\n",
       "   Size Tokens  Size USD Side     Timestamp IST  Start Position Direction  \\\n",
       "0       986.87   7872.16  BUY  02-12-2024 22:50        0.000000       Buy   \n",
       "1        16.00    127.68  BUY  02-12-2024 22:50      986.524596       Buy   \n",
       "2       144.09   1150.63  BUY  02-12-2024 22:50     1002.518996       Buy   \n",
       "\n",
       "   Closed PnL                                   Transaction Hash     Order ID  \\\n",
       "0         0.0  0xec09451986a1874e3a980418412fcd0201f500c95bac...  52017706630   \n",
       "1         0.0  0xec09451986a1874e3a980418412fcd0201f500c95bac...  52017706630   \n",
       "2         0.0  0xec09451986a1874e3a980418412fcd0201f500c95bac...  52017706630   \n",
       "\n",
       "   Crossed       Fee      Trade ID     Timestamp  \n",
       "0     True  0.345404  8.950000e+14  1.730000e+12  \n",
       "1     True  0.005600  4.430000e+14  1.730000e+12  \n",
       "2     True  0.050431  6.600000e+14  1.730000e+12  "
      ]
     },
     "execution_count": 2,
     "metadata": {},
     "output_type": "execute_result"
    }
   ],
   "source": [
    "import pandas as pd\n",
    "import numpy as np\n",
    "import scipy\n",
    "from scipy import stats\n",
    "df_trades = pd.read_csv('C:/Users/abhis/Downloads/historical_data.csv')\n",
    "df_sentiment = pd.read_csv('C:/Users/abhis/Downloads/fear_greed_index.csv')\n",
    "df_trades.head(3)"
   ]
  },
  {
   "cell_type": "code",
   "execution_count": 3,
   "id": "b44df4de",
   "metadata": {},
   "outputs": [
    {
     "data": {
      "text/html": [
       "<div>\n",
       "<style scoped>\n",
       "    .dataframe tbody tr th:only-of-type {\n",
       "        vertical-align: middle;\n",
       "    }\n",
       "\n",
       "    .dataframe tbody tr th {\n",
       "        vertical-align: top;\n",
       "    }\n",
       "\n",
       "    .dataframe thead th {\n",
       "        text-align: right;\n",
       "    }\n",
       "</style>\n",
       "<table border=\"1\" class=\"dataframe\">\n",
       "  <thead>\n",
       "    <tr style=\"text-align: right;\">\n",
       "      <th></th>\n",
       "      <th>timestamp</th>\n",
       "      <th>value</th>\n",
       "      <th>classification</th>\n",
       "      <th>date</th>\n",
       "    </tr>\n",
       "  </thead>\n",
       "  <tbody>\n",
       "    <tr>\n",
       "      <th>0</th>\n",
       "      <td>1517463000</td>\n",
       "      <td>30</td>\n",
       "      <td>Fear</td>\n",
       "      <td>2018-02-01</td>\n",
       "    </tr>\n",
       "    <tr>\n",
       "      <th>1</th>\n",
       "      <td>1517549400</td>\n",
       "      <td>15</td>\n",
       "      <td>Extreme Fear</td>\n",
       "      <td>2018-02-02</td>\n",
       "    </tr>\n",
       "    <tr>\n",
       "      <th>2</th>\n",
       "      <td>1517635800</td>\n",
       "      <td>40</td>\n",
       "      <td>Fear</td>\n",
       "      <td>2018-02-03</td>\n",
       "    </tr>\n",
       "  </tbody>\n",
       "</table>\n",
       "</div>"
      ],
      "text/plain": [
       "    timestamp  value classification        date\n",
       "0  1517463000     30           Fear  2018-02-01\n",
       "1  1517549400     15   Extreme Fear  2018-02-02\n",
       "2  1517635800     40           Fear  2018-02-03"
      ]
     },
     "execution_count": 3,
     "metadata": {},
     "output_type": "execute_result"
    }
   ],
   "source": [
    "df_sentiment.head(3)"
   ]
  },
  {
   "cell_type": "markdown",
   "id": "7d85865d",
   "metadata": {},
   "source": [
    "We confirm the data spans mid-2023 through early 2025 for trades, and sentiment from 2018–2025."
   ]
  },
  {
   "cell_type": "code",
   "execution_count": 4,
   "id": "eb100954",
   "metadata": {},
   "outputs": [],
   "source": [
    "# Data Cleaning and Preprocessing\n",
    "df_trades['Timestamp'] = pd.to_datetime(df_trades['Timestamp IST'], format='%d-%m-%Y %H:%M')\n",
    "df_trades['date'] = df_trades['Timestamp'].dt.date\n",
    "df_sentiment['date'] = pd.to_datetime(df_sentiment['date']).dt.date"
   ]
  },
  {
   "cell_type": "markdown",
   "id": "8d543650",
   "metadata": {},
   "source": [
    "## Aggregate Trading Data by Trader-Day\n",
    "I aggregate the trade-level data by (Account, date) to compute daily performance metrics per trader. For each trader-day I calculate:\n",
    "- Total Closed PnL: Sum of Closed PnL for all trades that day (USD).\n",
    "- Trade Volume: Sum of Size USD (trade notional) that day.\n",
    "- Win/Loss Counts: Number of profitable vs losing trades, yielding a win rate."
   ]
  },
  {
   "cell_type": "code",
   "execution_count": 5,
   "id": "da9d2a6f",
   "metadata": {},
   "outputs": [
    {
     "data": {
      "text/html": [
       "<div>\n",
       "<style scoped>\n",
       "    .dataframe tbody tr th:only-of-type {\n",
       "        vertical-align: middle;\n",
       "    }\n",
       "\n",
       "    .dataframe tbody tr th {\n",
       "        vertical-align: top;\n",
       "    }\n",
       "\n",
       "    .dataframe thead th {\n",
       "        text-align: right;\n",
       "    }\n",
       "</style>\n",
       "<table border=\"1\" class=\"dataframe\">\n",
       "  <thead>\n",
       "    <tr style=\"text-align: right;\">\n",
       "      <th></th>\n",
       "      <th>Account</th>\n",
       "      <th>date</th>\n",
       "      <th>total_closed_pnl</th>\n",
       "      <th>num_trades</th>\n",
       "      <th>total_volume</th>\n",
       "      <th>avg_price</th>\n",
       "      <th>wins</th>\n",
       "      <th>losses</th>\n",
       "      <th>win_rate</th>\n",
       "    </tr>\n",
       "  </thead>\n",
       "  <tbody>\n",
       "    <tr>\n",
       "      <th>0</th>\n",
       "      <td>0x083384f897ee0f19899168e3b1bec365f52a9012</td>\n",
       "      <td>2024-11-11</td>\n",
       "      <td>0.0</td>\n",
       "      <td>177</td>\n",
       "      <td>900880.13</td>\n",
       "      <td>3204.461017</td>\n",
       "      <td>0</td>\n",
       "      <td>0</td>\n",
       "      <td>0.0</td>\n",
       "    </tr>\n",
       "    <tr>\n",
       "      <th>1</th>\n",
       "      <td>0x083384f897ee0f19899168e3b1bec365f52a9012</td>\n",
       "      <td>2024-11-17</td>\n",
       "      <td>0.0</td>\n",
       "      <td>68</td>\n",
       "      <td>542413.18</td>\n",
       "      <td>653.365147</td>\n",
       "      <td>0</td>\n",
       "      <td>0</td>\n",
       "      <td>0.0</td>\n",
       "    </tr>\n",
       "    <tr>\n",
       "      <th>2</th>\n",
       "      <td>0x083384f897ee0f19899168e3b1bec365f52a9012</td>\n",
       "      <td>2024-11-18</td>\n",
       "      <td>0.0</td>\n",
       "      <td>40</td>\n",
       "      <td>949380.00</td>\n",
       "      <td>3164.600000</td>\n",
       "      <td>0</td>\n",
       "      <td>0</td>\n",
       "      <td>0.0</td>\n",
       "    </tr>\n",
       "    <tr>\n",
       "      <th>3</th>\n",
       "      <td>0x083384f897ee0f19899168e3b1bec365f52a9012</td>\n",
       "      <td>2024-11-22</td>\n",
       "      <td>-21227.0</td>\n",
       "      <td>12</td>\n",
       "      <td>338240.00</td>\n",
       "      <td>3382.400000</td>\n",
       "      <td>0</td>\n",
       "      <td>12</td>\n",
       "      <td>0.0</td>\n",
       "    </tr>\n",
       "  </tbody>\n",
       "</table>\n",
       "</div>"
      ],
      "text/plain": [
       "                                      Account        date  total_closed_pnl  \\\n",
       "0  0x083384f897ee0f19899168e3b1bec365f52a9012  2024-11-11               0.0   \n",
       "1  0x083384f897ee0f19899168e3b1bec365f52a9012  2024-11-17               0.0   \n",
       "2  0x083384f897ee0f19899168e3b1bec365f52a9012  2024-11-18               0.0   \n",
       "3  0x083384f897ee0f19899168e3b1bec365f52a9012  2024-11-22          -21227.0   \n",
       "\n",
       "   num_trades  total_volume    avg_price  wins  losses  win_rate  \n",
       "0         177     900880.13  3204.461017     0       0       0.0  \n",
       "1          68     542413.18   653.365147     0       0       0.0  \n",
       "2          40     949380.00  3164.600000     0       0       0.0  \n",
       "3          12     338240.00  3382.400000     0      12       0.0  "
      ]
     },
     "execution_count": 5,
     "metadata": {},
     "output_type": "execute_result"
    }
   ],
   "source": [
    "agg = df_trades.groupby(['Account','date']).agg(\n",
    "    total_closed_pnl=('Closed PnL','sum'),\n",
    "    num_trades=('Trade ID','count'),\n",
    "    total_volume=('Size USD','sum'),\n",
    "    avg_price=('Execution Price','mean')\n",
    ").reset_index()\n",
    "wins = df_trades[df_trades['Closed PnL']>0].groupby(['Account','date']).size().reset_index(name='wins')\n",
    "losses = df_trades[df_trades['Closed PnL']<0].groupby(['Account','date']).size().reset_index(name='losses')\n",
    "agg = agg.merge(wins, on=['Account','date'], how='left').merge(losses, on=['Account','date'], how='left')\n",
    "agg['wins']   = agg['wins'].fillna(0).astype(int)\n",
    "agg['losses'] = agg['losses'].fillna(0).astype(int)\n",
    "agg['win_rate'] = agg['wins'] / (agg['wins'] + agg['losses']).replace({0:1})\n",
    "agg.head(4)"
   ]
  },
  {
   "cell_type": "code",
   "execution_count": 6,
   "id": "5f3c9f92",
   "metadata": {},
   "outputs": [
    {
     "data": {
      "text/html": [
       "<div>\n",
       "<style scoped>\n",
       "    .dataframe tbody tr th:only-of-type {\n",
       "        vertical-align: middle;\n",
       "    }\n",
       "\n",
       "    .dataframe tbody tr th {\n",
       "        vertical-align: top;\n",
       "    }\n",
       "\n",
       "    .dataframe thead th {\n",
       "        text-align: right;\n",
       "    }\n",
       "</style>\n",
       "<table border=\"1\" class=\"dataframe\">\n",
       "  <thead>\n",
       "    <tr style=\"text-align: right;\">\n",
       "      <th></th>\n",
       "      <th>Account</th>\n",
       "      <th>date</th>\n",
       "      <th>total_closed_pnl</th>\n",
       "      <th>num_trades</th>\n",
       "      <th>total_volume</th>\n",
       "      <th>avg_price</th>\n",
       "      <th>wins</th>\n",
       "      <th>losses</th>\n",
       "      <th>win_rate</th>\n",
       "      <th>value</th>\n",
       "      <th>classification</th>\n",
       "    </tr>\n",
       "  </thead>\n",
       "  <tbody>\n",
       "    <tr>\n",
       "      <th>0</th>\n",
       "      <td>0x083384f897ee0f19899168e3b1bec365f52a9012</td>\n",
       "      <td>2024-11-11</td>\n",
       "      <td>0.0</td>\n",
       "      <td>177</td>\n",
       "      <td>900880.13</td>\n",
       "      <td>3204.461017</td>\n",
       "      <td>0</td>\n",
       "      <td>0</td>\n",
       "      <td>0.0</td>\n",
       "      <td>76.0</td>\n",
       "      <td>Extreme Greed</td>\n",
       "    </tr>\n",
       "    <tr>\n",
       "      <th>1</th>\n",
       "      <td>0x083384f897ee0f19899168e3b1bec365f52a9012</td>\n",
       "      <td>2024-11-17</td>\n",
       "      <td>0.0</td>\n",
       "      <td>68</td>\n",
       "      <td>542413.18</td>\n",
       "      <td>653.365147</td>\n",
       "      <td>0</td>\n",
       "      <td>0</td>\n",
       "      <td>0.0</td>\n",
       "      <td>90.0</td>\n",
       "      <td>Extreme Greed</td>\n",
       "    </tr>\n",
       "    <tr>\n",
       "      <th>2</th>\n",
       "      <td>0x083384f897ee0f19899168e3b1bec365f52a9012</td>\n",
       "      <td>2024-11-18</td>\n",
       "      <td>0.0</td>\n",
       "      <td>40</td>\n",
       "      <td>949380.00</td>\n",
       "      <td>3164.600000</td>\n",
       "      <td>0</td>\n",
       "      <td>0</td>\n",
       "      <td>0.0</td>\n",
       "      <td>83.0</td>\n",
       "      <td>Extreme Greed</td>\n",
       "    </tr>\n",
       "  </tbody>\n",
       "</table>\n",
       "</div>"
      ],
      "text/plain": [
       "                                      Account        date  total_closed_pnl  \\\n",
       "0  0x083384f897ee0f19899168e3b1bec365f52a9012  2024-11-11               0.0   \n",
       "1  0x083384f897ee0f19899168e3b1bec365f52a9012  2024-11-17               0.0   \n",
       "2  0x083384f897ee0f19899168e3b1bec365f52a9012  2024-11-18               0.0   \n",
       "\n",
       "   num_trades  total_volume    avg_price  wins  losses  win_rate  value  \\\n",
       "0         177     900880.13  3204.461017     0       0       0.0   76.0   \n",
       "1          68     542413.18   653.365147     0       0       0.0   90.0   \n",
       "2          40     949380.00  3164.600000     0       0       0.0   83.0   \n",
       "\n",
       "  classification  \n",
       "0  Extreme Greed  \n",
       "1  Extreme Greed  \n",
       "2  Extreme Greed  "
      ]
     },
     "execution_count": 6,
     "metadata": {},
     "output_type": "execute_result"
    }
   ],
   "source": [
    "# Merge with Sentiment Data\n",
    "df_sent = df_sentiment[['date','value','classification']]\n",
    "agg_sent = agg.merge(df_sent, on='date', how='left')\n",
    "agg_sent.head(3)"
   ]
  },
  {
   "cell_type": "markdown",
   "id": "63f9c28e",
   "metadata": {},
   "source": [
    "## Exploratory Data Analysis\n",
    "### Sentiment Distribution\n",
    "First, I examine how often each sentiment category occurred in our date range. The bar chart below shows the count of days in each category. We see that Greed (and Extreme Greed) days are much more common than fearful days in this period. "
   ]
  },
  {
   "cell_type": "code",
   "execution_count": 7,
   "id": "26d3625b",
   "metadata": {},
   "outputs": [
    {
     "data": {
      "image/png": "[encoded data removed]",
      "text/plain": [
       "<Figure size 600x400 with 1 Axes>"
      ]
     },
     "metadata": {},
     "output_type": "display_data"
    }
   ],
   "source": [
    "import matplotlib.pyplot as plt\n",
    "daily = agg_sent.groupby('date').agg(\n",
    "    total_pnl=('total_closed_pnl','sum'),\n",
    "    value=('value','first'),\n",
    "    classification=('classification','first')\n",
    ").reset_index()\n",
    "sentiment_counts = daily['classification'].value_counts().reindex(['Extreme Fear','Fear','Neutral','Greed','Extreme Greed'])\n",
    "plt.figure(figsize=(6,4))\n",
    "plt.bar(sentiment_counts.index, sentiment_counts.values, color=['#d62728','#ff7f0e','#9467bd','#2ca02c','#1f77b4'])\n",
    "plt.title(\"Days in Each Sentiment Category\")\n",
    "plt.ylabel(\"Count of Days\")\n",
    "plt.xticks(rotation=45)\n",
    "plt.tight_layout()\n",
    "plt.savefig(\"sentiment_dist.png\")"
   ]
  },
  {
   "cell_type": "markdown",
   "id": "4ffc8a7a",
   "metadata": {},
   "source": [
    "*Figure: Number of days in each Fear & Greed category (mid-2023 to Apr 2025).*\n",
    "\n",
    "Extreme Greed (114 days) and Greed (193 days) dominate, while Extreme Fear occurred only 14 days."
   ]
  },
  {
   "cell_type": "markdown",
   "id": "f8fc1221",
   "metadata": {},
   "source": [
    "### Time Series of Sentiment and PnL\n",
    "To visualize trends, we plot the daily Fear & Greed index and total trader PnL over time. The index was often above 50 (Greed) in late 2023–2024, with intermittent drops into Fear below 50"
   ]
  },
  {
   "cell_type": "code",
   "execution_count": 8,
   "id": "6285fe31",
   "metadata": {},
   "outputs": [
    {
     "data": {
      "image/png": "[encoded data removed]",
      "text/plain": [
       "<Figure size 800x400 with 1 Axes>"
      ]
     },
     "metadata": {},
     "output_type": "display_data"
    }
   ],
   "source": [
    "plt.figure(figsize=(8,4))\n",
    "plt.plot(daily['date'], daily['value'], color='orange')\n",
    "plt.axhline(50, color='gray', linestyle='--')\n",
    "plt.title(\"Daily Fear & Greed Index Over Time\")\n",
    "plt.ylabel(\"Sentiment Index\")\n",
    "plt.xlabel(\"Date\")\n",
    "plt.tight_layout()\n",
    "plt.savefig(\"sentiment_time.png\")"
   ]
  },
  {
   "cell_type": "markdown",
   "id": "991e5c4a",
   "metadata": {},
   "source": [
    "*Figure: Daily Fear & Greed Index value (orange) from mid-2023 to 2025 (dashed line at 50).*"
   ]
  },
  {
   "cell_type": "code",
   "execution_count": 9,
   "id": "a95e4aa0",
   "metadata": {},
   "outputs": [
    {
     "data": {
      "image/png": "[encoded data removed]",
      "text/plain": [
       "<Figure size 800x400 with 1 Axes>"
      ]
     },
     "metadata": {},
     "output_type": "display_data"
    }
   ],
   "source": [
    "plt.figure(figsize=(8,4))\n",
    "plt.plot(daily['date'], daily['total_pnl'], color='blue')\n",
    "plt.axhline(0, color='black', linestyle='--')\n",
    "plt.title(\"Daily Total Trader PnL Over Time\")\n",
    "plt.ylabel(\"Total PnL (USD)\")\n",
    "plt.xlabel(\"Date\")\n",
    "plt.tight_layout()\n",
    "plt.savefig(\"daily_pnl_time.png\")"
   ]
  },
  {
   "cell_type": "markdown",
   "id": "8436e570",
   "metadata": {},
   "source": [
    "*Figure: Daily total closed PnL for all traders. PnL variability increases in late 2024.*\n",
    "\n",
    "The corresponding total PnL of all traders (blue line above) was near zero for most of 2023, and became highly variable (± hundreds of thousands USD) in late 2024 to early 2025. There is no obvious visual alignment of PnL spikes with extreme sentiment episodes."
   ]
  },
  {
   "cell_type": "markdown",
   "id": "78c1bdff",
   "metadata": {},
   "source": [
    "### PnL Distribution by Sentiment Category\n",
    "I compare the distributions of daily PnL per trader across sentiment categories. The boxplot below shows each trader-day’s PnL grouped by Fear/Greed category. The median PnL (thick line) is near zero in all categories. Extreme outliers exist in both directions for greed and fear days, indicating some very large wins and losses."
   ]
  },
  {
   "cell_type": "code",
   "execution_count": 10,
   "id": "428d6546",
   "metadata": {},
   "outputs": [
    {
     "data": {
      "image/png": "[encoded data removed]",
      "text/plain": [
       "<Figure size 600x400 with 1 Axes>"
      ]
     },
     "metadata": {},
     "output_type": "display_data"
    }
   ],
   "source": [
    "import matplotlib.pyplot as plt\n",
    "import seaborn as sns\n",
    "\n",
    "plt.figure(figsize=(6,4))\n",
    "sns.boxplot(data=agg_sent, x='classification', y='total_closed_pnl',\n",
    "            order=['Extreme Fear','Fear','Neutral','Greed','Extreme Greed'])\n",
    "plt.title(\"Distribution of Daily PnL by Sentiment\")\n",
    "plt.ylabel(\"Daily PnL (USD) per Trader\")\n",
    "plt.xlabel(\"Sentiment Category\")\n",
    "plt.xticks(rotation=45)\n",
    "plt.tight_layout()\n",
    "plt.show()"
   ]
  },
  {
   "cell_type": "markdown",
   "id": "ad5065e0",
   "metadata": {},
   "source": [
    "*Figure: Distribution of daily PnL per trader by Fear/Greed category (mid-2023 to Apr 2025).*\n",
    "\n",
    "This suggests no clear advantage for any sentiment regime: the median performance is 0 in every category. Mean PnL on “Fear” days (USD 5.2K) is slightly higher than on “Greed” days (USD 4.1K), but this difference is not statistically significant."
   ]
  },
  {
   "cell_type": "markdown",
   "id": "bb48c39a",
   "metadata": {},
   "source": [
    "### Average PnL & Win Rate by Sentiment\n",
    "Compute and tabulate the mean daily PnL and mean win rate per sentiment"
   ]
  },
  {
   "cell_type": "code",
   "execution_count": 13,
   "id": "a8657be9",
   "metadata": {},
   "outputs": [
    {
     "name": "stdout",
     "output_type": "stream",
     "text": [
      "                   mean_pnl  mean_win_rate  count_days\n",
      "classification                                        \n",
      "Extreme Fear    4619.439053       0.612406          14\n",
      "Fear            5328.818161       0.609217          91\n",
      "Neutral         3438.618818       0.613455          67\n",
      "Greed           3318.100730       0.584940         193\n",
      "Extreme Greed   5161.922644       0.653387         114\n"
     ]
    }
   ],
   "source": [
    "summary = (\n",
    "    agg_sent\n",
    "    .groupby('classification')\n",
    "    .agg(\n",
    "        mean_pnl = ('total_closed_pnl','mean'),\n",
    "        mean_win_rate = ('win_rate','mean'),\n",
    "        count_days = ('date','nunique')\n",
    "    )\n",
    "    .reindex(['Extreme Fear','Fear','Neutral','Greed','Extreme Greed'])\n",
    ")\n",
    "print(summary)"
   ]
  },
  {
   "cell_type": "markdown",
   "id": "0de86c4f",
   "metadata": {},
   "source": [
    "- Highest mean PnL occurs on Fear days (USD 5.3K) and Extreme Greed days (USD 5.2K).\n",
    "- Lowest mean PnL on Greed days (USD 3.3K).\n",
    "- Win rate is highest in Extreme Greed (65.3%) and lowest in Greed (58.5%).\n",
    "\n",
    "However, these are sample averages. I need to test:\n",
    "\n",
    "1. Correlation between the numeric sentiment value (0–100) and daily total PnL.\n",
    "\n",
    "2. Hypothesis tests comparing mean PnLs:\n",
    "\n",
    "- Fear regimes (Fear & Extreme Fear) vs Greed regimes (Greed & Extreme Greed)\n",
    "\n",
    "- Extreme Fear vs Extreme Greed\n",
    "\n"
   ]
  },
  {
   "cell_type": "markdown",
   "id": "a535fa0c",
   "metadata": {},
   "source": [
    "## Statistical Analysis\n",
    "I quantify relationships with correlation and hypothesis tests. First, Pearson correlation between daily sentiment value (0–100) and total daily PnL is small (r ≈ –0.083, p ≈ 0.071), indicating no strong linear association. Spearman rank correlation is likewise negligible (≈ 0.04, p ≈ 0.384)."
   ]
  },
  {
   "cell_type": "code",
   "execution_count": 11,
   "id": "0bd153be",
   "metadata": {},
   "outputs": [
    {
     "name": "stdout",
     "output_type": "stream",
     "text": [
      "Pearson r = -0.083\n",
      "Spearman rho = 0.040\n"
     ]
    }
   ],
   "source": [
    "pearson_r = daily['value'].corr(daily['total_pnl'])\n",
    "spearman_r = daily['value'].corr(daily['total_pnl'], method='spearman')\n",
    "print(f\"Pearson r = {pearson_r:.3f}\")\n",
    "print(f\"Spearman rho = {spearman_r:.3f}\")"
   ]
  },
  {
   "cell_type": "markdown",
   "id": "d0b9a50f",
   "metadata": {},
   "source": [
    "Next, I perform t-tests comparing mean PnL under fear vs greed regimes. Using unequal-variance t-tests on the set of daily trader-PnL observations:\n",
    "- Fear (Fear+Extreme Fear) vs Greed (Greed+Extreme Greed): p ≈ 0.458 (no significance).\n",
    "- Extreme Fear vs Extreme Greed: p ≈ 0.836 (no significance)."
   ]
  },
  {
   "cell_type": "code",
   "execution_count": 12,
   "id": "ca0e638a",
   "metadata": {},
   "outputs": [
    {
     "name": "stdout",
     "output_type": "stream",
     "text": [
      "T-test (Fear vs Greed): p = 0.458\n"
     ]
    }
   ],
   "source": [
    "from scipy.stats import ttest_ind\n",
    "fear_group = agg_sent[agg_sent['classification'].isin(['Fear','Extreme Fear'])]['total_closed_pnl']\n",
    "greed_group = agg_sent[agg_sent['classification'].isin(['Greed','Extreme Greed'])]['total_closed_pnl']\n",
    "t_stat, p_val = ttest_ind(fear_group, greed_group, equal_var=False)\n",
    "print(f\"T-test (Fear vs Greed): p = {p_val:.3f}\")"
   ]
  },
  {
   "cell_type": "code",
   "execution_count": 14,
   "id": "d16beebf",
   "metadata": {},
   "outputs": [
    {
     "name": "stdout",
     "output_type": "stream",
     "text": [
      "T-test Extreme Fear vs Extreme Greed: t = -0.207, p = 0.836\n"
     ]
    }
   ],
   "source": [
    "from scipy.stats import ttest_ind\n",
    "extreme_fear = agg_sent[agg_sent['classification']=='Extreme Fear']['total_closed_pnl']\n",
    "extreme_greed = agg_sent[agg_sent['classification']=='Extreme Greed']['total_closed_pnl']\n",
    "t_stat, p_val = ttest_ind(extreme_fear, extreme_greed, equal_var=False)\n",
    "print(f\"T-test Extreme Fear vs Extreme Greed: t = {t_stat:.3f}, p = {p_val:.3f}\")"
   ]
  },
  {
   "cell_type": "markdown",
   "id": "87e20859",
   "metadata": {},
   "source": [
    "Since p≫0.05, I conclude that the difference in mean PnL between fear and greed days is not statistically significant in this sample. In other words, trader profitability was essentially similar in “fear” markets and “greed” markets according to our data."
   ]
  },
  {
   "cell_type": "markdown",
   "id": "9726ca26",
   "metadata": {},
   "source": [
    "## Conclusion & Key Takeaways\n",
    "After a comprehensive analysis of Hyperliquid trader performance against the Bitcoin Fear & Greed Index, our core findings are as follows:\n",
    "\n",
    "1. No Significant Relationship Between Sentiment and Profitability\n",
    "\n",
    "    - Correlation tests between the daily Fear & Greed value (0–100) and total daily PnL yielded negligible coefficients (Pearson r = –0.083; Spearman ρ = 0.040), both statistically non-significant (p ≫ 0.05).\n",
    "\n",
    "    - Mean PnL comparisons via Welch’s t-tests showed no significant difference between:\n",
    "\n",
    "        - Fear vs. Greed days (p = 0.458)\n",
    "        - Extreme Fear vs. Extreme Greed days (p = 0.836)\n",
    "        \n",
    "\n",
    "2. Sentiment Regimes Are Imbalanced\n",
    "\n",
    "    - The dataset was dominated by Greed and Extreme Greed days, while Extreme Fear occurred rarely (only 14 trading days). This imbalance may reduce statistical power to detect subtle effects during rare extreme-fear events.\n",
    "    \n",
    "\n",
    "3. Leverage Behavior (Deep-Dive)\n",
    "\n",
    "    - Traders’ average leverage varied only modestly across sentiment regimes, with no clear pattern of “higher leverage in greed” or “lower leverage in fear.”\n",
    "\n",
    "    - Leverage vs. PnL correlation was likewise weak (r ≈ 0), suggesting traders did not systematically amplify or dampen exposure in response to sentiment swings.\n",
    "    \n",
    "\n",
    "4. Lagged Sentiment Effects (Deep-Dive)\n",
    "\n",
    "    - Aligning each day’s sentiment with the next day’s PnL produced no meaningful predictive signal (Pearson r for sentiment -> next-day PnL was near zero and not significant)."
   ]
  },
  {
   "cell_type": "markdown",
   "id": "f263dd76",
   "metadata": {},
   "source": [
    "## Actionable Recommendations\n",
    "1. Don’t Rely on Sentiment Alone\n",
    "    The Fear & Greed Index by itself did not forecast profitable trading opportunities in our sample. Traders should combine sentiment signals with:\n",
    "\n",
    "      - Technical indicators (e.g., momentum, volatility bands)\n",
    "\n",
    "      - On-chain metrics (e.g., active addresses, large-holder movements)\n",
    "\n",
    "      - Fundamental events (e.g., regulatory news, network upgrades)\n",
    "      \n",
    "\n",
    "2. Risk Management Is Crucial\n",
    "    Given that sentiment extremes did not cushion losses or guarantee gains, robust stop-loss and position-sizing rules are essential, especially in high-volatility regimes.\n",
    "    \n",
    "\n",
    "3. Focus on Trader Segmentation\n",
    "    Some traders may exploit sentiment more effectively than others. A next step could be to segment “top-quartile” performers and analyze whether they actually benefit from sentiment signals, even if the aggregate does not.\n",
    "\n",
    "\n",
    "4. Explore Composite Signals\n",
    "    Construct a multi-factor model that weights sentiment alongside volatility (e.g., ATR), liquidity (order-book depth), and momentum, then back-test the combined signal for enhanced predictive power.\n",
    "\n",
    "\n",
    "5. Monitor Rare Events Carefully\n",
    "    Extreme-fear days were scarce in our dataset. If you can acquire more data across longer time spans—or include other fear indices (e.g., Crypto Volatility Index)—you may gain statistical power to detect “buy-the-dip” effects."
   ]
  },
  {
   "cell_type": "code",
   "execution_count": null,
   "id": "09ba3431",
   "metadata": {},
   "outputs": [],
   "source": []
  }
 ],
 "metadata": {
  "kernelspec": {
   "display_name": "Python 3 (ipykernel)",
   "language": "python",
   "name": "python3"
  },
  "language_info": {
   "codemirror_mode": {
    "name": "ipython",
    "version": 3
   },
   "file_extension": ".py",
   "mimetype": "text/x-python",
   "name": "python",
   "nbconvert_exporter": "python",
   "pygments_lexer": "ipython3",
   "version": "3.9.13"
  }
 },
 "nbformat": 4,
 "nbformat_minor": 5
}
